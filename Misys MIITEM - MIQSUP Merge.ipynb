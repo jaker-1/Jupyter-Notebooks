{
 "cells": [
  {
   "cell_type": "code",
   "execution_count": 17,
   "id": "159a227e",
   "metadata": {},
   "outputs": [],
   "source": [
    "import pandas as pd\n",
    "import numpy as np\n",
    "from matplotlib import pyplot as plt"
   ]
  },
  {
   "cell_type": "markdown",
   "id": "c15ac12b",
   "metadata": {},
   "source": [
    "### Import CSV Files from MIITEM & MIQSUP"
   ]
  },
  {
   "cell_type": "code",
   "execution_count": 18,
   "id": "2d9bd7a3",
   "metadata": {},
   "outputs": [],
   "source": [
    "df1 = pd.read_csv('C:\\\\Users\\\\robjac\\\\Documents\\\\Jupyter\\\\Data\\\\MIITEM.csv',low_memory=False)\n",
    "df2 = pd.read_csv('C:\\\\Users\\\\robjac\\\\Documents\\\\Jupyter\\\\Data\\\\MIQSUP.csv',low_memory=False)"
   ]
  },
  {
   "cell_type": "markdown",
   "id": "239918e4",
   "metadata": {},
   "source": [
    "### Drop Columns"
   ]
  },
  {
   "cell_type": "code",
   "execution_count": 19,
   "id": "82a2c7b9",
   "metadata": {},
   "outputs": [],
   "source": [
    "df1 = df1.drop(columns=['ref', 'pick', 'poUOfM',\n",
    "       'uConvFact', 'glId', 'segId', 'cycle', 'type', 'revId', 'track', 'lead',\n",
    "       'minLvl', 'maxLvl', 'ordLvl', 'ordQty', 'variance', 'lotSz',\n",
    "       'cStd', 'cAvg', 'locId', 'mfgId',\n",
    "       'lotMeth', 'glAcct', 'apDist', 'a0Status', 'a0Func', 'a0Vol', 'a0Off',\n",
    "       'a1Status', 'a1Func', 'a1Vol', 'a1Off', 'a2Status', 'a2Func', 'a2Vol',\n",
    "       'a2Off', 'status', 'bHuman', 'lstPIDt', 'a0Start', 'a0End',\n",
    "       'a1Start', 'a1End', 'a2Start', 'a2End', 'totQStk', 'totQWip', 'totQRes',\n",
    "       'totQOrd', 'totIqStk', 'totIqWip', 'totIqRes', 'totIqOrd', 'itemCost',\n",
    "       'custFld1', 'custFld2', 'Unnamed: 66'])\n",
    "\n",
    "df2 = df2.drop(columns=['suplId', 'poUOfM', 'uConvFact',\n",
    "       'ytdQty', 'srcCur', 'lead', 'basePrice', 'Unnamed: 12'])"
   ]
  },
  {
   "cell_type": "markdown",
   "id": "0823b272",
   "metadata": {},
   "source": [
    "### Merge MIITEM & MIQSUP based on itemId Field"
   ]
  },
  {
   "cell_type": "code",
   "execution_count": 20,
   "id": "37bda42b",
   "metadata": {},
   "outputs": [],
   "source": [
    "merged_df = pd.merge(df1, df2, on=\"itemId\")"
   ]
  },
  {
   "cell_type": "code",
   "execution_count": 45,
   "id": "60a2d811",
   "metadata": {},
   "outputs": [
    {
     "name": "stdout",
     "output_type": "stream",
     "text": [
      "<class 'pandas.core.frame.DataFrame'>\n",
      "Int64Index: 18026 entries, 0 to 18025\n",
      "Data columns (total 14 columns):\n",
      " #   Column        Non-Null Count  Dtype  \n",
      "---  ------        --------------  -----  \n",
      " 0   itemId        18026 non-null  object \n",
      " 1   descr         18023 non-null  object \n",
      " 2   xdesc         364 non-null    object \n",
      " 3   sales         17308 non-null  object \n",
      " 4   uOfM          18018 non-null  object \n",
      " 5   cLast         18026 non-null  float64\n",
      " 6   cLand         18026 non-null  float64\n",
      " 7   unitWgt       18026 non-null  float64\n",
      " 8   suplId        15917 non-null  object \n",
      " 9   lstUseDt      14916 non-null  object \n",
      " 10  suplProdCode  8321 non-null   object \n",
      " 11  recCostFunc   18026 non-null  float64\n",
      " 12  recCostSrc    18026 non-null  float64\n",
      " 13  ordLstDt      10162 non-null  object \n",
      "dtypes: float64(5), object(9)\n",
      "memory usage: 2.1+ MB\n"
     ]
    }
   ],
   "source": [
    "merged_df.info()"
   ]
  },
  {
   "cell_type": "code",
   "execution_count": null,
   "id": "168aa359",
   "metadata": {},
   "outputs": [],
   "source": []
  }
 ],
 "metadata": {
  "kernelspec": {
   "display_name": "Python 3 (ipykernel)",
   "language": "python",
   "name": "python3"
  },
  "language_info": {
   "codemirror_mode": {
    "name": "ipython",
    "version": 3
   },
   "file_extension": ".py",
   "mimetype": "text/x-python",
   "name": "python",
   "nbconvert_exporter": "python",
   "pygments_lexer": "ipython3",
   "version": "3.9.7"
  }
 },
 "nbformat": 4,
 "nbformat_minor": 5
}
