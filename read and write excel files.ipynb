{
 "cells": [
  {
   "cell_type": "code",
   "execution_count": 1,
   "id": "9434c73a",
   "metadata": {},
   "outputs": [],
   "source": [
    "import pandas as pd\n",
    "import openpyxl as pxl\n",
    "import sqlalchemy\n",
    "import pyodbc"
   ]
  },
  {
   "cell_type": "code",
   "execution_count": 2,
   "id": "ccb4b38e",
   "metadata": {},
   "outputs": [],
   "source": [
    "#cnxn = pyodbc.connect('DRIVER={Devart ODBC Driver for QuickBooks};Company Id=mycompanyid;Access Token=myaccesstoken;Access Token Secret=myaccesstokensecret;Consumer Key=myconsumerkey;Consumer Key Secret=myconsumerkeysecret;String Types=Unicode')"
   ]
  },
  {
   "cell_type": "markdown",
   "id": "b5dd958d",
   "metadata": {},
   "source": [
    "### Read in CSVs"
   ]
  },
  {
   "cell_type": "code",
   "execution_count": 3,
   "id": "b71dd9bb",
   "metadata": {},
   "outputs": [],
   "source": [
    "\n",
    "df = pd.read_csv('C:\\\\Users\\\\robjac\\\\Documents\\\\Jupyter\\\\Data\\\\MIQSUP.csv')"
   ]
  },
  {
   "cell_type": "code",
   "execution_count": 4,
   "id": "3c4f912b",
   "metadata": {},
   "outputs": [],
   "source": [
    "df['ordLstDt']= pd.to_datetime(df['ordLstDt'])"
   ]
  },
  {
   "cell_type": "code",
   "execution_count": 5,
   "id": "a9772b37",
   "metadata": {},
   "outputs": [],
   "source": [
    "df = df.sort_values(by='ordLstDt')"
   ]
  },
  {
   "cell_type": "code",
   "execution_count": 6,
   "id": "4e56f78d",
   "metadata": {},
   "outputs": [],
   "source": [
    "filt = (df['ordLstDt'] >= '2020')\n",
    "df = df.loc[filt]"
   ]
  },
  {
   "cell_type": "code",
   "execution_count": 8,
   "id": "0082e3de",
   "metadata": {},
   "outputs": [
    {
     "data": {
      "text/html": [
       "<div>\n",
       "<style scoped>\n",
       "    .dataframe tbody tr th:only-of-type {\n",
       "        vertical-align: middle;\n",
       "    }\n",
       "\n",
       "    .dataframe tbody tr th {\n",
       "        vertical-align: top;\n",
       "    }\n",
       "\n",
       "    .dataframe thead th {\n",
       "        text-align: right;\n",
       "    }\n",
       "</style>\n",
       "<table border=\"1\" class=\"dataframe\">\n",
       "  <thead>\n",
       "    <tr style=\"text-align: right;\">\n",
       "      <th></th>\n",
       "      <th>itemId</th>\n",
       "      <th>suplId</th>\n",
       "      <th>suplProdCode</th>\n",
       "      <th>poUOfM</th>\n",
       "      <th>uConvFact</th>\n",
       "      <th>recCostFunc</th>\n",
       "      <th>ytdQty</th>\n",
       "      <th>recCostSrc</th>\n",
       "      <th>srcCur</th>\n",
       "      <th>lead</th>\n",
       "      <th>basePrice</th>\n",
       "      <th>ordLstDt</th>\n",
       "      <th>Unnamed: 12</th>\n",
       "    </tr>\n",
       "  </thead>\n",
       "  <tbody>\n",
       "    <tr>\n",
       "      <th>795</th>\n",
       "      <td>36T024</td>\n",
       "      <td>MMTCINC</td>\n",
       "      <td>1KFS-X</td>\n",
       "      <td>NaN</td>\n",
       "      <td>1.0</td>\n",
       "      <td>75.550</td>\n",
       "      <td>0.0</td>\n",
       "      <td>75.550</td>\n",
       "      <td>USD</td>\n",
       "      <td>1</td>\n",
       "      <td>0.0</td>\n",
       "      <td>2020-01-03</td>\n",
       "      <td>NaN</td>\n",
       "    </tr>\n",
       "    <tr>\n",
       "      <th>11116</th>\n",
       "      <td>SPO134-273-30RH-C</td>\n",
       "      <td>NAPOLEONLYN</td>\n",
       "      <td>NaN</td>\n",
       "      <td>ea</td>\n",
       "      <td>1.0</td>\n",
       "      <td>12.730</td>\n",
       "      <td>0.0</td>\n",
       "      <td>12.730</td>\n",
       "      <td>USD</td>\n",
       "      <td>2</td>\n",
       "      <td>0.0</td>\n",
       "      <td>2020-01-06</td>\n",
       "      <td>NaN</td>\n",
       "    </tr>\n",
       "    <tr>\n",
       "      <th>11114</th>\n",
       "      <td>SPO134-273-30LH-C</td>\n",
       "      <td>NAPOLEONLYN</td>\n",
       "      <td>NaN</td>\n",
       "      <td>ea</td>\n",
       "      <td>1.0</td>\n",
       "      <td>12.730</td>\n",
       "      <td>0.0</td>\n",
       "      <td>12.730</td>\n",
       "      <td>USD</td>\n",
       "      <td>2</td>\n",
       "      <td>0.0</td>\n",
       "      <td>2020-01-06</td>\n",
       "      <td>NaN</td>\n",
       "    </tr>\n",
       "    <tr>\n",
       "      <th>6975</th>\n",
       "      <td>OSTC15</td>\n",
       "      <td>ATL</td>\n",
       "      <td>74715RACLP</td>\n",
       "      <td>NaN</td>\n",
       "      <td>1.0</td>\n",
       "      <td>0.454</td>\n",
       "      <td>0.0</td>\n",
       "      <td>0.454</td>\n",
       "      <td>USD</td>\n",
       "      <td>23</td>\n",
       "      <td>0.0</td>\n",
       "      <td>2020-01-07</td>\n",
       "      <td>NaN</td>\n",
       "    </tr>\n",
       "    <tr>\n",
       "      <th>7797</th>\n",
       "      <td>SLPBEO-AL-K</td>\n",
       "      <td>AIRLIFT</td>\n",
       "      <td>O16R1003</td>\n",
       "      <td>ea</td>\n",
       "      <td>1.0</td>\n",
       "      <td>51.910</td>\n",
       "      <td>0.0</td>\n",
       "      <td>51.910</td>\n",
       "      <td>USD</td>\n",
       "      <td>5</td>\n",
       "      <td>0.0</td>\n",
       "      <td>2020-01-07</td>\n",
       "      <td>NaN</td>\n",
       "    </tr>\n",
       "  </tbody>\n",
       "</table>\n",
       "</div>"
      ],
      "text/plain": [
       "                  itemId       suplId suplProdCode poUOfM  uConvFact  \\\n",
       "795               36T024      MMTCINC       1KFS-X    NaN        1.0   \n",
       "11116  SPO134-273-30RH-C  NAPOLEONLYN          NaN     ea        1.0   \n",
       "11114  SPO134-273-30LH-C  NAPOLEONLYN          NaN     ea        1.0   \n",
       "6975              OSTC15          ATL   74715RACLP    NaN        1.0   \n",
       "7797         SLPBEO-AL-K      AIRLIFT     O16R1003     ea        1.0   \n",
       "\n",
       "       recCostFunc  ytdQty  recCostSrc srcCur  lead  basePrice   ordLstDt  \\\n",
       "795         75.550     0.0      75.550    USD     1        0.0 2020-01-03   \n",
       "11116       12.730     0.0      12.730    USD     2        0.0 2020-01-06   \n",
       "11114       12.730     0.0      12.730    USD     2        0.0 2020-01-06   \n",
       "6975         0.454     0.0       0.454    USD    23        0.0 2020-01-07   \n",
       "7797        51.910     0.0      51.910    USD     5        0.0 2020-01-07   \n",
       "\n",
       "       Unnamed: 12  \n",
       "795            NaN  \n",
       "11116          NaN  \n",
       "11114          NaN  \n",
       "6975           NaN  \n",
       "7797           NaN  "
      ]
     },
     "execution_count": 8,
     "metadata": {},
     "output_type": "execute_result"
    }
   ],
   "source": [
    "df.head()"
   ]
  },
  {
   "cell_type": "code",
   "execution_count": null,
   "id": "158926bf",
   "metadata": {},
   "outputs": [],
   "source": []
  },
  {
   "cell_type": "code",
   "execution_count": null,
   "id": "8e89de8a",
   "metadata": {},
   "outputs": [],
   "source": []
  }
 ],
 "metadata": {
  "kernelspec": {
   "display_name": "Python 3 (ipykernel)",
   "language": "python",
   "name": "python3"
  },
  "language_info": {
   "codemirror_mode": {
    "name": "ipython",
    "version": 3
   },
   "file_extension": ".py",
   "mimetype": "text/x-python",
   "name": "python",
   "nbconvert_exporter": "python",
   "pygments_lexer": "ipython3",
   "version": "3.9.7"
  }
 },
 "nbformat": 4,
 "nbformat_minor": 5
}
