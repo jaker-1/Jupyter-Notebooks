{
 "cells": [
  {
   "cell_type": "markdown",
   "id": "d4ffbbf1",
   "metadata": {},
   "source": [
    "### Import Python Libraries"
   ]
  },
  {
   "cell_type": "code",
   "execution_count": 1,
   "id": "210d2a81",
   "metadata": {},
   "outputs": [],
   "source": [
    "import pandas as pd\n",
    "import numpy as np\n",
    "from matplotlib import pyplot as plt"
   ]
  },
  {
   "cell_type": "markdown",
   "id": "55189dcb",
   "metadata": {},
   "source": [
    "### Import Any CSV"
   ]
  },
  {
   "cell_type": "code",
   "execution_count": 2,
   "id": "0f2cc16e",
   "metadata": {},
   "outputs": [],
   "source": [
    "QBSale = pd.read_csv('C:\\\\Users\\\\robjac\\\\Documents\\\\Jupyter\\\\Data\\\\QB_Sale_by_Customer.csv')"
   ]
  },
  {
   "cell_type": "markdown",
   "id": "e111ad1a",
   "metadata": {},
   "source": [
    "### Remove Columns"
   ]
  },
  {
   "cell_type": "code",
   "execution_count": 3,
   "id": "6e364b59",
   "metadata": {},
   "outputs": [],
   "source": [
    "QBSale = QBSale.drop(['Type','Date','Num','Memo','Amount'], axis=1)"
   ]
  },
  {
   "cell_type": "markdown",
   "id": "f8222a56",
   "metadata": {},
   "source": [
    "### Replace NaN with Empty Space"
   ]
  },
  {
   "cell_type": "code",
   "execution_count": 4,
   "id": "919afc69",
   "metadata": {},
   "outputs": [],
   "source": [
    "QBSale = QBSale.fillna('')"
   ]
  },
  {
   "cell_type": "markdown",
   "id": "7f3b7dbd",
   "metadata": {},
   "source": [
    "### Find feild names with Total in them"
   ]
  },
  {
   "cell_type": "code",
   "execution_count": 5,
   "id": "a7bacc1c",
   "metadata": {},
   "outputs": [],
   "source": [
    "QBSale = QBSale[QBSale['Unnamed: 0'].str.contains('Total')]"
   ]
  },
  {
   "cell_type": "markdown",
   "id": "67a63da1",
   "metadata": {},
   "source": [
    "### Rename First Column to Customer"
   ]
  },
  {
   "cell_type": "code",
   "execution_count": 6,
   "id": "5ec657cf",
   "metadata": {},
   "outputs": [],
   "source": [
    "QBSale = QBSale.rename(columns={'Unnamed: 0': 'Customer'})"
   ]
  },
  {
   "cell_type": "markdown",
   "id": "8c0ef3ba",
   "metadata": {},
   "source": [
    "### Find Customers that owe more than $10,000"
   ]
  },
  {
   "cell_type": "code",
   "execution_count": 7,
   "id": "6328a971",
   "metadata": {},
   "outputs": [],
   "source": [
    "QBSale = QBSale[QBSale['Open Balance'] > 10000]"
   ]
  },
  {
   "cell_type": "markdown",
   "id": "a8be6016",
   "metadata": {},
   "source": [
    "### Remove 'Total' String from first feild"
   ]
  },
  {
   "cell_type": "code",
   "execution_count": 8,
   "id": "d81f77f4",
   "metadata": {},
   "outputs": [],
   "source": [
    "QBSale['Customer'] = QBSale['Customer'].str.replace(r'Total ', '')"
   ]
  },
  {
   "cell_type": "markdown",
   "id": "49c33910",
   "metadata": {},
   "source": [
    "### Sort by Open Balance"
   ]
  },
  {
   "cell_type": "code",
   "execution_count": 9,
   "id": "3c7231b5",
   "metadata": {},
   "outputs": [],
   "source": [
    "QBSale = QBSale.sort_values(by=['Open Balance'])"
   ]
  },
  {
   "cell_type": "markdown",
   "id": "edf105ee",
   "metadata": {},
   "source": [
    "### Reformat Open Balance"
   ]
  },
  {
   "cell_type": "code",
   "execution_count": 10,
   "id": "5610c5a2",
   "metadata": {},
   "outputs": [],
   "source": [
    "QBSale['Open Balance'] = QBSale['Open Balance'].apply(lambda x: f\"${x/1000:.1f}k\")"
   ]
  },
  {
   "cell_type": "markdown",
   "id": "24d58088",
   "metadata": {},
   "source": [
    "### Display Visualization of Data"
   ]
  },
  {
   "cell_type": "code",
   "execution_count": 11,
   "id": "69b201cd",
   "metadata": {},
   "outputs": [
    {
     "data": {
      "text/html": [
       "<div>\n",
       "<style scoped>\n",
       "    .dataframe tbody tr th:only-of-type {\n",
       "        vertical-align: middle;\n",
       "    }\n",
       "\n",
       "    .dataframe tbody tr th {\n",
       "        vertical-align: top;\n",
       "    }\n",
       "\n",
       "    .dataframe thead th {\n",
       "        text-align: right;\n",
       "    }\n",
       "</style>\n",
       "<table border=\"1\" class=\"dataframe\">\n",
       "  <thead>\n",
       "    <tr style=\"text-align: right;\">\n",
       "      <th></th>\n",
       "      <th>Customer</th>\n",
       "      <th>Open Balance</th>\n",
       "    </tr>\n",
       "  </thead>\n",
       "  <tbody>\n",
       "    <tr>\n",
       "      <th>204</th>\n",
       "      <td>Michigan OHD &amp; Loading Dock Co</td>\n",
       "      <td>$10.4k</td>\n",
       "    </tr>\n",
       "    <tr>\n",
       "      <th>256</th>\n",
       "      <td>OHD OF WINNIPEG</td>\n",
       "      <td>$11.2k</td>\n",
       "    </tr>\n",
       "    <tr>\n",
       "      <th>216</th>\n",
       "      <td>MIDWEST OHD - WI</td>\n",
       "      <td>$13.0k</td>\n",
       "    </tr>\n",
       "    <tr>\n",
       "      <th>232</th>\n",
       "      <td>NGC OHD</td>\n",
       "      <td>$14.9k</td>\n",
       "    </tr>\n",
       "    <tr>\n",
       "      <th>162</th>\n",
       "      <td>HQI Door Co.</td>\n",
       "      <td>$16.3k</td>\n",
       "    </tr>\n",
       "    <tr>\n",
       "      <th>94</th>\n",
       "      <td>DNL GARAGE DOOR SYSTEMS INC</td>\n",
       "      <td>$17.2k</td>\n",
       "    </tr>\n",
       "    <tr>\n",
       "      <th>51</th>\n",
       "      <td>BLUE IGUANA CAR WASH</td>\n",
       "      <td>$18.9k</td>\n",
       "    </tr>\n",
       "    <tr>\n",
       "      <th>250</th>\n",
       "      <td>OHD OF FRANKLIN</td>\n",
       "      <td>$20.8k</td>\n",
       "    </tr>\n",
       "    <tr>\n",
       "      <th>349</th>\n",
       "      <td>SUMMERS GARAGE DOOR</td>\n",
       "      <td>$22.4k</td>\n",
       "    </tr>\n",
       "    <tr>\n",
       "      <th>308</th>\n",
       "      <td>Sawhorse LLC</td>\n",
       "      <td>$23.0k</td>\n",
       "    </tr>\n",
       "    <tr>\n",
       "      <th>305</th>\n",
       "      <td>S &amp; S OHD</td>\n",
       "      <td>$25.3k</td>\n",
       "    </tr>\n",
       "    <tr>\n",
       "      <th>165</th>\n",
       "      <td>HYDROLOGICS</td>\n",
       "      <td>$25.6k</td>\n",
       "    </tr>\n",
       "    <tr>\n",
       "      <th>180</th>\n",
       "      <td>KOEHLER CARWASH</td>\n",
       "      <td>$26.2k</td>\n",
       "    </tr>\n",
       "    <tr>\n",
       "      <th>209</th>\n",
       "      <td>MIDWEST GARAGE DOOR-IL</td>\n",
       "      <td>$29.5k</td>\n",
       "    </tr>\n",
       "    <tr>\n",
       "      <th>374</th>\n",
       "      <td>TRI COUNTY OHD</td>\n",
       "      <td>$42.6k</td>\n",
       "    </tr>\n",
       "    <tr>\n",
       "      <th>243</th>\n",
       "      <td>NORTHERN MANAGEMENT SERVICES</td>\n",
       "      <td>$51.5k</td>\n",
       "    </tr>\n",
       "    <tr>\n",
       "      <th>451</th>\n",
       "      <td>WW GRAINGER, INC.- CORP</td>\n",
       "      <td>$93.9k</td>\n",
       "    </tr>\n",
       "    <tr>\n",
       "      <th>21</th>\n",
       "      <td>ACCURATE DOOR-ND</td>\n",
       "      <td>$203.4k</td>\n",
       "    </tr>\n",
       "  </tbody>\n",
       "</table>\n",
       "</div>"
      ],
      "text/plain": [
       "                           Customer Open Balance\n",
       "204  Michigan OHD & Loading Dock Co       $10.4k\n",
       "256                 OHD OF WINNIPEG       $11.2k\n",
       "216                MIDWEST OHD - WI       $13.0k\n",
       "232                         NGC OHD       $14.9k\n",
       "162                    HQI Door Co.       $16.3k\n",
       "94      DNL GARAGE DOOR SYSTEMS INC       $17.2k\n",
       "51             BLUE IGUANA CAR WASH       $18.9k\n",
       "250                 OHD OF FRANKLIN       $20.8k\n",
       "349             SUMMERS GARAGE DOOR       $22.4k\n",
       "308                    Sawhorse LLC       $23.0k\n",
       "305                       S & S OHD       $25.3k\n",
       "165                     HYDROLOGICS       $25.6k\n",
       "180                 KOEHLER CARWASH       $26.2k\n",
       "209          MIDWEST GARAGE DOOR-IL       $29.5k\n",
       "374                  TRI COUNTY OHD       $42.6k\n",
       "243    NORTHERN MANAGEMENT SERVICES       $51.5k\n",
       "451         WW GRAINGER, INC.- CORP       $93.9k\n",
       "21                 ACCURATE DOOR-ND      $203.4k"
      ]
     },
     "execution_count": 11,
     "metadata": {},
     "output_type": "execute_result"
    }
   ],
   "source": [
    "QBSale.head(50)"
   ]
  },
  {
   "cell_type": "markdown",
   "id": "f0561821",
   "metadata": {},
   "source": [
    "### VERY Generic Graph of Data"
   ]
  },
  {
   "cell_type": "code",
   "execution_count": 40,
   "id": "3b435f54",
   "metadata": {},
   "outputs": [
    {
     "data": {
      "image/png": "[encoded data removed]",
      "text/plain": [
       "<Figure size 432x288 with 1 Axes>"
      ]
     },
     "metadata": {
      "needs_background": "light"
     },
     "output_type": "display_data"
    }
   ],
   "source": [
    "\n",
    "\n",
    "plt.plot(QBSale['Customer'],QBSale['Open Balance'],'*')\n",
    "plt.title(\"Open Balance > $10k\")\n",
    "plt.xlabel(\"Customer\")\n",
    "plt.ylabel(\"Balance\")\n",
    "plt.tick_params(bottom=False)\n",
    "plt.xticks(QBSale['Customer'][::1],  rotation='vertical')\n",
    "\n",
    "\n",
    "plt.show()"
   ]
  },
  {
   "cell_type": "code",
   "execution_count": 39,
   "id": "f27f09d7",
   "metadata": {},
   "outputs": [
    {
     "data": {
      "image/png": "[encoded data removed]",
      "text/plain": [
       "<Figure size 1440x720 with 1 Axes>"
      ]
     },
     "metadata": {
      "needs_background": "light"
     },
     "output_type": "display_data"
    }
   ],
   "source": [
    "fig, ax = plt.subplots(figsize=(20, 10))\n",
    "\n",
    "x = np.arange(0, 1, 0.1)\n",
    "y = np.sin(x)\n",
    "z = np.cos(x)\n",
    "\n",
    "ax.plot(y, color='blue', label='Sine wave')\n",
    "ax.plot(z, color='black', label='Cosine wave')\n",
    "\n",
    "plt.show()"
   ]
  },
  {
   "cell_type": "code",
   "execution_count": null,
   "id": "1cfc9ce9",
   "metadata": {},
   "outputs": [],
   "source": []
  }
 ],
 "metadata": {
  "kernelspec": {
   "display_name": "Python 3 (ipykernel)",
   "language": "python",
   "name": "python3"
  },
  "language_info": {
   "codemirror_mode": {
    "name": "ipython",
    "version": 3
   },
   "file_extension": ".py",
   "mimetype": "text/x-python",
   "name": "python",
   "nbconvert_exporter": "python",
   "pygments_lexer": "ipython3",
   "version": "3.9.7"
  }
 },
 "nbformat": 4,
 "nbformat_minor": 5
}
