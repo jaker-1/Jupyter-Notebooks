{
 "cells": [
  {
   "cell_type": "code",
   "execution_count": 108,
   "id": "153c91ac",
   "metadata": {},
   "outputs": [],
   "source": [
    "import pandas as pd"
   ]
  },
  {
   "cell_type": "markdown",
   "id": "4a29f00e",
   "metadata": {},
   "source": [
    "### Import CSV"
   ]
  },
  {
   "cell_type": "code",
   "execution_count": 109,
   "id": "0cae4e76",
   "metadata": {},
   "outputs": [],
   "source": [
    "QBSale = pd.read_csv('C:\\\\Users\\\\robjac\\\\Documents\\\\Jupyter\\\\Data\\\\QB_Sale_by_Customer.csv')"
   ]
  },
  {
   "cell_type": "markdown",
   "id": "03cbe097",
   "metadata": {},
   "source": [
    "### Remove Columns"
   ]
  },
  {
   "cell_type": "code",
   "execution_count": 110,
   "id": "4e6fd8f3",
   "metadata": {},
   "outputs": [],
   "source": [
    "QBSale = QBSale.drop(['Type','Date','Num','Memo'], axis=1)"
   ]
  },
  {
   "cell_type": "markdown",
   "id": "8801dfd6",
   "metadata": {},
   "source": [
    "### Replace NaN with Empty Space"
   ]
  },
  {
   "cell_type": "code",
   "execution_count": 111,
   "id": "1fcd5a9c",
   "metadata": {},
   "outputs": [],
   "source": [
    "QBSale = QBSale.fillna('')"
   ]
  },
  {
   "cell_type": "markdown",
   "id": "cc89522a",
   "metadata": {},
   "source": [
    "### Find feild names with Total in them"
   ]
  },
  {
   "cell_type": "code",
   "execution_count": 112,
   "id": "090ce29a",
   "metadata": {},
   "outputs": [],
   "source": [
    "QBSale = QBSale[QBSale['Unnamed: 0'].str.contains('Total')]"
   ]
  },
  {
   "cell_type": "markdown",
   "id": "ad58ddad",
   "metadata": {},
   "source": [
    "### Rename First Column to Customer"
   ]
  },
  {
   "cell_type": "code",
   "execution_count": 113,
   "id": "0384975c",
   "metadata": {},
   "outputs": [],
   "source": [
    "QBSale = QBSale.rename(columns={'Unnamed: 0': 'Customer'})"
   ]
  },
  {
   "cell_type": "markdown",
   "id": "c381abb1",
   "metadata": {},
   "source": [
    "### Find Customers that owe more than $10,000"
   ]
  },
  {
   "cell_type": "code",
   "execution_count": 114,
   "id": "7d05930a",
   "metadata": {},
   "outputs": [],
   "source": [
    "QBSale = QBSale[QBSale['Open Balance'] > 10000]"
   ]
  },
  {
   "cell_type": "markdown",
   "id": "79ad9219",
   "metadata": {},
   "source": [
    "### Remove 'Total' String from first feild"
   ]
  },
  {
   "cell_type": "code",
   "execution_count": 116,
   "id": "3fba8bc4",
   "metadata": {},
   "outputs": [],
   "source": [
    "QBSale['Customer'] = QBSale['Customer'].str.replace(r'Total ', '')"
   ]
  },
  {
   "cell_type": "code",
   "execution_count": 119,
   "id": "93ef0220",
   "metadata": {},
   "outputs": [
    {
     "data": {
      "text/html": [
       "<div>\n",
       "<style scoped>\n",
       "    .dataframe tbody tr th:only-of-type {\n",
       "        vertical-align: middle;\n",
       "    }\n",
       "\n",
       "    .dataframe tbody tr th {\n",
       "        vertical-align: top;\n",
       "    }\n",
       "\n",
       "    .dataframe thead th {\n",
       "        text-align: right;\n",
       "    }\n",
       "</style>\n",
       "<table border=\"1\" class=\"dataframe\">\n",
       "  <thead>\n",
       "    <tr style=\"text-align: right;\">\n",
       "      <th></th>\n",
       "      <th>Customer</th>\n",
       "      <th>Amount</th>\n",
       "      <th>Open Balance</th>\n",
       "    </tr>\n",
       "  </thead>\n",
       "  <tbody>\n",
       "    <tr>\n",
       "      <th>21</th>\n",
       "      <td>ACCURATE DOOR-ND</td>\n",
       "      <td>203382.0</td>\n",
       "      <td>203382.0</td>\n",
       "    </tr>\n",
       "    <tr>\n",
       "      <th>51</th>\n",
       "      <td>BLUE IGUANA CAR WASH</td>\n",
       "      <td>18886.0</td>\n",
       "      <td>18886.0</td>\n",
       "    </tr>\n",
       "    <tr>\n",
       "      <th>94</th>\n",
       "      <td>DNL GARAGE DOOR SYSTEMS INC</td>\n",
       "      <td>17158.53</td>\n",
       "      <td>17158.53</td>\n",
       "    </tr>\n",
       "    <tr>\n",
       "      <th>162</th>\n",
       "      <td>HQI Door Co.</td>\n",
       "      <td>16267.4</td>\n",
       "      <td>16267.4</td>\n",
       "    </tr>\n",
       "    <tr>\n",
       "      <th>165</th>\n",
       "      <td>HYDROLOGICS</td>\n",
       "      <td>25603.3</td>\n",
       "      <td>25603.3</td>\n",
       "    </tr>\n",
       "    <tr>\n",
       "      <th>180</th>\n",
       "      <td>KOEHLER CARWASH</td>\n",
       "      <td>26211.72</td>\n",
       "      <td>26211.72</td>\n",
       "    </tr>\n",
       "    <tr>\n",
       "      <th>204</th>\n",
       "      <td>Michigan OHD &amp; Loading Dock Co</td>\n",
       "      <td>10362.5</td>\n",
       "      <td>10362.5</td>\n",
       "    </tr>\n",
       "    <tr>\n",
       "      <th>209</th>\n",
       "      <td>MIDWEST GARAGE DOOR-IL</td>\n",
       "      <td>29482.17</td>\n",
       "      <td>29482.17</td>\n",
       "    </tr>\n",
       "    <tr>\n",
       "      <th>216</th>\n",
       "      <td>MIDWEST OHD - WI</td>\n",
       "      <td>13029.0</td>\n",
       "      <td>13029.0</td>\n",
       "    </tr>\n",
       "    <tr>\n",
       "      <th>232</th>\n",
       "      <td>NGC OHD</td>\n",
       "      <td>14874.9</td>\n",
       "      <td>14874.9</td>\n",
       "    </tr>\n",
       "    <tr>\n",
       "      <th>243</th>\n",
       "      <td>NORTHERN MANAGEMENT SERVICES</td>\n",
       "      <td>51469.62</td>\n",
       "      <td>51469.62</td>\n",
       "    </tr>\n",
       "    <tr>\n",
       "      <th>250</th>\n",
       "      <td>OHD OF FRANKLIN</td>\n",
       "      <td>20797.86</td>\n",
       "      <td>20797.86</td>\n",
       "    </tr>\n",
       "    <tr>\n",
       "      <th>256</th>\n",
       "      <td>OHD OF WINNIPEG</td>\n",
       "      <td>11235.76</td>\n",
       "      <td>11235.76</td>\n",
       "    </tr>\n",
       "    <tr>\n",
       "      <th>305</th>\n",
       "      <td>S &amp; S OHD</td>\n",
       "      <td>25314.74</td>\n",
       "      <td>25314.74</td>\n",
       "    </tr>\n",
       "    <tr>\n",
       "      <th>308</th>\n",
       "      <td>Sawhorse LLC</td>\n",
       "      <td>23029.82</td>\n",
       "      <td>23029.82</td>\n",
       "    </tr>\n",
       "    <tr>\n",
       "      <th>349</th>\n",
       "      <td>SUMMERS GARAGE DOOR</td>\n",
       "      <td>22418.83</td>\n",
       "      <td>22418.83</td>\n",
       "    </tr>\n",
       "    <tr>\n",
       "      <th>374</th>\n",
       "      <td>TRI COUNTY OHD</td>\n",
       "      <td>42569.5</td>\n",
       "      <td>42569.5</td>\n",
       "    </tr>\n",
       "    <tr>\n",
       "      <th>451</th>\n",
       "      <td>WW GRAINGER, INC.- CORP</td>\n",
       "      <td>132642.41</td>\n",
       "      <td>93949.06</td>\n",
       "    </tr>\n",
       "  </tbody>\n",
       "</table>\n",
       "</div>"
      ],
      "text/plain": [
       "                           Customer     Amount Open Balance\n",
       "21                 ACCURATE DOOR-ND   203382.0     203382.0\n",
       "51             BLUE IGUANA CAR WASH    18886.0      18886.0\n",
       "94      DNL GARAGE DOOR SYSTEMS INC   17158.53     17158.53\n",
       "162                    HQI Door Co.    16267.4      16267.4\n",
       "165                     HYDROLOGICS    25603.3      25603.3\n",
       "180                 KOEHLER CARWASH   26211.72     26211.72\n",
       "204  Michigan OHD & Loading Dock Co    10362.5      10362.5\n",
       "209          MIDWEST GARAGE DOOR-IL   29482.17     29482.17\n",
       "216                MIDWEST OHD - WI    13029.0      13029.0\n",
       "232                         NGC OHD    14874.9      14874.9\n",
       "243    NORTHERN MANAGEMENT SERVICES   51469.62     51469.62\n",
       "250                 OHD OF FRANKLIN   20797.86     20797.86\n",
       "256                 OHD OF WINNIPEG   11235.76     11235.76\n",
       "305                       S & S OHD   25314.74     25314.74\n",
       "308                    Sawhorse LLC   23029.82     23029.82\n",
       "349             SUMMERS GARAGE DOOR   22418.83     22418.83\n",
       "374                  TRI COUNTY OHD    42569.5      42569.5\n",
       "451         WW GRAINGER, INC.- CORP  132642.41     93949.06"
      ]
     },
     "execution_count": 119,
     "metadata": {},
     "output_type": "execute_result"
    }
   ],
   "source": [
    "QBSale.head(30)"
   ]
  },
  {
   "cell_type": "code",
   "execution_count": null,
   "id": "e79f500f",
   "metadata": {},
   "outputs": [],
   "source": []
  }
 ],
 "metadata": {
  "kernelspec": {
   "display_name": "Python 3 (ipykernel)",
   "language": "python",
   "name": "python3"
  },
  "language_info": {
   "codemirror_mode": {
    "name": "ipython",
    "version": 3
   },
   "file_extension": ".py",
   "mimetype": "text/x-python",
   "name": "python",
   "nbconvert_exporter": "python",
   "pygments_lexer": "ipython3",
   "version": "3.9.7"
  }
 },
 "nbformat": 4,
 "nbformat_minor": 5
}
