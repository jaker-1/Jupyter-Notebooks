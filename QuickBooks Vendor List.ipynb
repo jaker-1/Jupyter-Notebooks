{
 "cells": [
  {
   "cell_type": "code",
   "execution_count": 13,
   "id": "8142094a",
   "metadata": {},
   "outputs": [],
   "source": [
    "import pandas as pd"
   ]
  },
  {
   "cell_type": "code",
   "execution_count": 33,
   "id": "85cf3825",
   "metadata": {},
   "outputs": [
    {
     "data": {
      "text/plain": [
       "Index(['Unnamed: 0', 'Active Status', 'Vendor', 'Balance', 'Balance Total',\n",
       "       'Company', 'Mr./Ms./...', 'First Name', 'M.I.', 'Last Name',\n",
       "       'Bill from 1', 'Bill from 2', 'Bill from 3', 'Bill from 4',\n",
       "       'Bill from 5', 'Ship from 1', 'Ship from 2', 'Ship from 3',\n",
       "       'Ship from 4', 'Ship from 5', 'Primary Contact', 'Job Title',\n",
       "       'Main Phone', 'Fax', 'Alt. Phone', 'Secondary Contact'],\n",
       "      dtype='object')"
      ]
     },
     "execution_count": 33,
     "metadata": {},
     "output_type": "execute_result"
    }
   ],
   "source": [
    "qbVendor = pd.read_csv('C:\\\\Users\\\\robjac\\\\Documents\\\\Jupyter\\\\Data\\\\QB_Vendor.csv')\n",
    "qbVendor.columns"
   ]
  },
  {
   "cell_type": "code",
   "execution_count": 34,
   "id": "d48f9a9e",
   "metadata": {},
   "outputs": [],
   "source": [
    "qbVendor = qbVendor.drop(['Unnamed: 0', 'Active Status', 'Balance',\n",
    "       'Company', 'Mr./Ms./...', 'M.I.',\n",
    "       'Bill from 1', 'Bill from 2', 'Bill from 3', 'Bill from 4',\n",
    "       'Bill from 5', 'Ship from 1', 'Ship from 2', 'Ship from 3',\n",
    "       'Ship from 4', 'Ship from 5', 'Primary Contact', 'Fax', 'Alt. Phone', 'Secondary Contact'], axis=1)"
   ]
  },
  {
   "cell_type": "code",
   "execution_count": 35,
   "id": "4da49992",
   "metadata": {},
   "outputs": [
    {
     "data": {
      "text/plain": [
       "514"
      ]
     },
     "execution_count": 35,
     "metadata": {},
     "output_type": "execute_result"
    }
   ],
   "source": [
    "len(qbVendor)"
   ]
  },
  {
   "cell_type": "code",
   "execution_count": 36,
   "id": "f3bb8834",
   "metadata": {},
   "outputs": [
    {
     "data": {
      "text/html": [
       "<div>\n",
       "<style scoped>\n",
       "    .dataframe tbody tr th:only-of-type {\n",
       "        vertical-align: middle;\n",
       "    }\n",
       "\n",
       "    .dataframe tbody tr th {\n",
       "        vertical-align: top;\n",
       "    }\n",
       "\n",
       "    .dataframe thead th {\n",
       "        text-align: right;\n",
       "    }\n",
       "</style>\n",
       "<table border=\"1\" class=\"dataframe\">\n",
       "  <thead>\n",
       "    <tr style=\"text-align: right;\">\n",
       "      <th></th>\n",
       "      <th>Vendor</th>\n",
       "      <th>Balance Total</th>\n",
       "      <th>First Name</th>\n",
       "      <th>Last Name</th>\n",
       "      <th>Job Title</th>\n",
       "      <th>Main Phone</th>\n",
       "    </tr>\n",
       "  </thead>\n",
       "  <tbody>\n",
       "    <tr>\n",
       "      <th>0</th>\n",
       "      <td>North Central Door Co. Inc.</td>\n",
       "      <td>18932.53</td>\n",
       "      <td>NaN</td>\n",
       "      <td>NaN</td>\n",
       "      <td>NaN</td>\n",
       "      <td>218-751-6962</td>\n",
       "    </tr>\n",
       "    <tr>\n",
       "      <th>1</th>\n",
       "      <td>Sealeze - A Unit of Jason Inc.</td>\n",
       "      <td>13608.07</td>\n",
       "      <td>Doug</td>\n",
       "      <td>Baltz</td>\n",
       "      <td>NaN</td>\n",
       "      <td>800-446-7325</td>\n",
       "    </tr>\n",
       "    <tr>\n",
       "      <th>2</th>\n",
       "      <td>AVALARA</td>\n",
       "      <td>8159.14</td>\n",
       "      <td>NaN</td>\n",
       "      <td>NaN</td>\n",
       "      <td>NaN</td>\n",
       "      <td>877-780-4848</td>\n",
       "    </tr>\n",
       "    <tr>\n",
       "      <th>3</th>\n",
       "      <td>MISys SBM</td>\n",
       "      <td>5097.99</td>\n",
       "      <td>NaN</td>\n",
       "      <td>NaN</td>\n",
       "      <td>NaN</td>\n",
       "      <td>NaN</td>\n",
       "    </tr>\n",
       "    <tr>\n",
       "      <th>4</th>\n",
       "      <td>Stolhammer &amp; Son's</td>\n",
       "      <td>3292.40</td>\n",
       "      <td>Jordon</td>\n",
       "      <td>Stolhammer</td>\n",
       "      <td>NaN</td>\n",
       "      <td>218-333-8810</td>\n",
       "    </tr>\n",
       "  </tbody>\n",
       "</table>\n",
       "</div>"
      ],
      "text/plain": [
       "                           Vendor  Balance Total First Name   Last Name  \\\n",
       "0     North Central Door Co. Inc.       18932.53        NaN         NaN   \n",
       "1  Sealeze - A Unit of Jason Inc.       13608.07       Doug       Baltz   \n",
       "2                         AVALARA        8159.14        NaN         NaN   \n",
       "3                       MISys SBM        5097.99        NaN         NaN   \n",
       "4              Stolhammer & Son's        3292.40     Jordon  Stolhammer   \n",
       "\n",
       "  Job Title    Main Phone  \n",
       "0       NaN  218-751-6962  \n",
       "1       NaN  800-446-7325  \n",
       "2       NaN  877-780-4848  \n",
       "3       NaN           NaN  \n",
       "4       NaN  218-333-8810  "
      ]
     },
     "execution_count": 36,
     "metadata": {},
     "output_type": "execute_result"
    }
   ],
   "source": [
    "qbVendor.head()"
   ]
  },
  {
   "cell_type": "code",
   "execution_count": null,
   "id": "e58f44b0",
   "metadata": {},
   "outputs": [],
   "source": []
  }
 ],
 "metadata": {
  "kernelspec": {
   "display_name": "Python 3 (ipykernel)",
   "language": "python",
   "name": "python3"
  },
  "language_info": {
   "codemirror_mode": {
    "name": "ipython",
    "version": 3
   },
   "file_extension": ".py",
   "mimetype": "text/x-python",
   "name": "python",
   "nbconvert_exporter": "python",
   "pygments_lexer": "ipython3",
   "version": "3.9.7"
  }
 },
 "nbformat": 4,
 "nbformat_minor": 5
}
